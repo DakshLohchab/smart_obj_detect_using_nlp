{
 "cells": [
  {
   "cell_type": "markdown",
   "metadata": {},
   "source": [
    "# Smart Object Detection using Gemini and Grounding DINO\n",
    "\n",
    "This notebook demonstrates smart object detection combining Google's Gemini API with Grounding DINO for advanced visual understanding and precise object localization."
   ]
  },
  {
   "cell_type": "markdown",
   "metadata": {},
   "source": [
    "## Installation and Setup"
   ]
  },
  {
   "cell_type": "code",
   "execution_count": null,
   "metadata": {},
   "outputs": [],
   "source": [
    "# Install required packages\n",
    "!pip install google-generativeai\n",
    "!pip install transformers\n",
    "!pip install torch torchvision\n",
    "!pip install opencv-python\n",
    "!pip install pillow\n",
    "!pip install numpy\n",
    "!pip install matplotlib"
   ]
  },
  {
   "cell_type": "markdown",
   "metadata": {},
   "source": [
    "## Import Libraries"
   ]
  },
  {
   "cell_type": "code",
   "execution_count": null,
   "metadata": {},
   "outputs": [],
   "source": [
    "import google.generativeai as genai\n",
    "import cv2\n",
    "import numpy as np\n",
    "import matplotlib.pyplot as plt\n",
    "from PIL import Image\n",
    "import torch\n",
    "from transformers import pipeline\n",
    "import os"
   ]
  },
  {
   "cell_type": "markdown",
   "metadata": {},
   "source": [
    "## Configure Gemini API"
   ]
  },
  {
   "cell_type": "code",
   "execution_count": null,
   "metadata": {},
   "outputs": [],
   "source": [
    "# Configure Gemini API\n",
    "GOOGLE_API_KEY = \"your_api_key_here\"  # Replace with your actual API key\n",
    "genai.configure(api_key=GOOGLE_API_KEY)\n",
    "\n",
    "# Initialize Gemini model\n",
    "model = genai.GenerativeModel('gemini-1.5-flash')"
   ]
  },
  {
   "cell_type": "markdown",
   "metadata": {},
   "source": [
    "## Load Grounding DINO Model"
   ]
  },
  {
   "cell_type": "code",
   "execution_count": null,
   "metadata": {},
   "outputs": [],
   "source": [
    "# Load Grounding DINO for object detection\n",
    "# Note: This is a simplified example - actual Grounding DINO setup may require additional steps\n",
    "device = torch.device('cuda' if torch.cuda.is_available() else 'cpu')\n",
    "print(f\"Using device: {device}\")"
   ]
  },
  {
   "cell_type": "markdown",
   "metadata": {},
   "source": [
    "## Smart Object Detection Functions"
   ]
  },
  {
   "cell_type": "code",
   "execution_count": null,
   "metadata": {},
   "outputs": [],
   "source": [
    "def analyze_image_with_gemini(image_path, prompt):\n",
    "    \"\"\"\n",
    "    Analyze image using Gemini API\n",
    "    \"\"\"\n",
    "    image = Image.open(image_path)\n",
    "    response = model.generate_content([prompt, image])\n",
    "    return response.text\n",
    "\n",
    "def detect_objects_grounding_dino(image_path, text_prompt):\n",
    "    \"\"\"\n",
    "    Detect objects using Grounding DINO\n",
    "    \"\"\"\n",
    "    # Placeholder for Grounding DINO implementation\n",
    "    # Actual implementation would involve loading the model and running inference\n",
    "    image = cv2.imread(image_path)\n",
    "    # Add your Grounding DINO detection logic here\n",
    "    return image\n",
    "\n",
    "def smart_object_detection(image_path):\n",
    "    \"\"\"\n",
    "    Combine Gemini analysis with Grounding DINO detection\n",
    "    \"\"\"\n",
    "    # First, use Gemini to understand the image\n",
    "    gemini_prompt = \"Describe what objects you see in this image and their locations.\"\n",
    "    gemini_analysis = analyze_image_with_gemini(image_path, gemini_prompt)\n",
    "    \n",
    "    print(\"Gemini Analysis:\")\n",
    "    print(gemini_analysis)\n",
    "    \n",
    "    # Then use Grounding DINO for precise localization\n",
    "    detected_image = detect_objects_grounding_dino(image_path, gemini_analysis)\n",
    "    \n",
    "    return gemini_analysis, detected_image"
   ]
  },
  {
   "cell_type": "markdown",
   "metadata": {},
   "source": [
    "## Example Usage"
   ]
  },
  {
   "cell_type": "code",
   "execution_count": null,
   "metadata": {},
   "outputs": [],
   "source": [
    "# Example usage\n",
    "image_path = \"path/to/your/image.jpg\"  # Replace with your image path\n",
    "\n",
    "# Perform smart object detection\n",
    "analysis, detected_image = smart_object_detection(image_path)\n",
    "\n",
    "# Display results\n",
    "plt.figure(figsize=(12, 6))\n",
    "plt.subplot(1, 2, 1)\n",
    "original = cv2.imread(image_path)\n",
    "original_rgb = cv2.cvtColor(original, cv2.COLOR_BGR2RGB)\n",
    "plt.imshow(original_rgb)\n",
    "plt.title(\"Original Image\")\n",
    "plt.axis('off')\n",
    "\n",
    "plt.subplot(1, 2, 2)\n",
    "detected_rgb = cv2.cvtColor(detected_image, cv2.COLOR_BGR2RGB)\n",
    "plt.imshow(detected_rgb)\n",
    "plt.title(\"Object Detection Results\")\n",
    "plt.axis('off')\n",
    "\n",
    "plt.tight_layout()\n",
    "plt.show()"
   ]
  }
 ],
 "metadata": {
  "kernelspec": {
   "display_name": "Python 3",
   "language": "python",
   "name": "python3"
  },
  "language_info": {
   "codemirror_mode": {
    "name": "ipython",
    "version": 3
   },
   "file_extension": ".py",
   "mimetype": "text/x-python",
   "name": "python",
   "nbconvert_exporter": "python",
   "pygments_lexer": "ipython3",
   "version": "3.8.5"
  }
 },
 "nbformat": 4,
 "nbformat_minor": 4
}
